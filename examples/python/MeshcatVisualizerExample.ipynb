{
 "cells": [
  {
   "cell_type": "markdown",
   "metadata": {},
   "source": [
    "# MeshcatVisualizer a simple example"
   ]
  },
  {
   "cell_type": "code",
   "execution_count": null,
   "metadata": {},
   "outputs": [],
   "source": [
    "from idyntree.visualize import MeshcatVisualizer\n",
    "import numpy as np\n",
    "import os\n",
    "from ipywidgets import interact, interactive, fixed, interact_manual\n",
    "import ipywidgets as widgets\n",
    "from __future__ import print_function\n",
    "import numpy as np"
   ]
  },
  {
   "cell_type": "code",
   "execution_count": null,
   "metadata": {},
   "outputs": [],
   "source": [
    "def clone_model():\n",
    "    \"\"\"Get the model from icub-models. This is usefull to have a standalone example.\"\"\"\n",
    "    import zipfile\n",
    "    import urllib.request\n",
    "    import tempfile\n",
    "    model_url = 'https://github.com/robotology/icub-models/archive/refs/tags/v1.20.0.zip'\n",
    "    model = urllib.request.urlopen(model_url)\n",
    "    temp = tempfile.NamedTemporaryFile()\n",
    "    temp_folder = tempfile.TemporaryDirectory()\n",
    "    temp.write(model.read())\n",
    "    with zipfile.ZipFile(temp.name, 'r') as zip_obj:\n",
    "        zip_obj.extractall(temp_folder.name)\n",
    "\n",
    "    build_path = os.path.join(temp_folder.name, 'icub-models-1.20.0', 'build')\n",
    "    os.mkdir(build_path)\n",
    "    os.chdir(build_path)\n",
    "\n",
    "    os.system('cmake ..')\n",
    "    return temp_folder, build_path\n",
    "\n",
    "\n",
    "def expand_enviroment_variable(build_path):\n",
    "    \"\"\"Expand the enviroment data. This is usefull to have a standalone example.\"\"\"\n",
    "    os.environ[\"YARP_DATA_DIRS\"] += os.path.join(build_path, 'iCub')\n",
    "    os.environ[\"ROS_PACKAGE_PATH\"] += build_path\n",
    "    os.environ[\"AMENT_PREFIX_PATH\"] += build_path\n",
    "\n",
    "def get_model_path(build_path, robot_name='iCubGazeboV2_5'):\n",
    "    return os.path.join(build_path, 'iCub', 'robots', robot_name, 'model.urdf')"
   ]
  },
  {
   "cell_type": "code",
   "execution_count": null,
   "metadata": {},
   "outputs": [],
   "source": [
    "temp_folder, model_parent_dir = clone_model()\n",
    "expand_enviroment_variable(model_parent_dir)"
   ]
  },
  {
   "cell_type": "code",
   "execution_count": null,
   "metadata": {},
   "outputs": [],
   "source": [
    "model_path = get_model_path(model_parent_dir)\n",
    "joint_list = [\"torso_pitch\", \"torso_roll\", \"torso_yaw\",\n",
    "              \"l_shoulder_pitch\", \"l_shoulder_roll\", \"l_shoulder_yaw\", \"l_elbow\",\n",
    "              \"r_shoulder_pitch\", \"r_shoulder_roll\", \"r_shoulder_yaw\", \"r_elbow\",\n",
    "              \"l_hip_pitch\", \"l_hip_roll\", \"l_hip_yaw\", \"l_knee\", \"l_ankle_pitch\", \"l_ankle_roll\",\n",
    "              \"r_hip_pitch\", \"r_hip_roll\", \"r_hip_yaw\", \"r_knee\", \"r_ankle_pitch\", \"r_ankle_roll\"]\n",
    "joint_dictionary = {joint: (-0.5, 0.5, 0.01) for joint in joint_list}"
   ]
  },
  {
   "cell_type": "code",
   "execution_count": null,
   "metadata": {},
   "outputs": [],
   "source": [
    "viz = MeshcatVisualizer()\n",
    "viz.set_model_from_file(model_path, joint_list)\n",
    "viz.load_model(color=[1, 1, 1, 0.8])"
   ]
  },
  {
   "cell_type": "code",
   "execution_count": null,
   "metadata": {},
   "outputs": [],
   "source": [
    "def update_the_model(**joint_values):\n",
    "    R = np.eye(3)\n",
    "    p = np.array([0.0, 0.0, 0.0])\n",
    "    s = np.array(list(joint_values.values()))\n",
    "    viz.display(p, R, s)"
   ]
  },
  {
   "cell_type": "code",
   "execution_count": null,
   "metadata": {},
   "outputs": [],
   "source": [
    "viz.jupyter_cell()"
   ]
  },
  {
   "cell_type": "code",
   "execution_count": null,
   "metadata": {},
   "outputs": [],
   "source": [
    "interact(update_the_model, **joint_dictionary);"
   ]
  }
 ],
 "metadata": {
  "kernelspec": {
   "display_name": "Python 3",
   "language": "python",
   "name": "python3"
  },
  "language_info": {
   "codemirror_mode": {
    "name": "ipython",
    "version": 3
   },
   "file_extension": ".py",
   "mimetype": "text/x-python",
   "name": "python",
   "nbconvert_exporter": "python",
   "pygments_lexer": "ipython3",
   "version": "3.8.10"
  }
 },
 "nbformat": 4,
 "nbformat_minor": 4
}
