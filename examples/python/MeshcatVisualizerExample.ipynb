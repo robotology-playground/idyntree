{
 "cells": [
  {
   "cell_type": "markdown",
   "metadata": {},
   "source": [
    "# iDynTree MeshcatVisualizer a simple example\n",
    "\n",
    "The `idyntree.visualize.MeshcatVisualizer` is a simple class that permits to display `iDynTree::Model` instances  in Python, for example loaded from URDF models, directly  as part of a Jupyter Notebook, thanks to the use of the [MeshCat](https://github.com/rdeits/meshcat-python), a WebGL-based 3D visualizer for Python. The API of this class is inspired by [the similar class of Pinocchio](https://gepettoweb.laas.fr/doc/stack-of-tasks/pinocchio/devel/doxygen-html/md_doc_b-examples_display_b-meshcat-viewer.html), but the iDynTree version permit to specify arbitrary joint orders for the model.\n",
    "\n",
    "To run this example, you first need to install some dependencies. It is recommend to install them via `conda`. \n",
    "If you do not have any conda distribution, it is recommended to install `miniforge` by following the guide in [`robotology-superbuild` docs](https://github.com/robotology/robotology-superbuild/blob/v2021.05/doc/install-miniforge.md). \n",
    "\n",
    "Once you have conda installed on your system, you can open a terminal and create on the fly an environment called `idyntree-jupyter` and activate it and then clone the idyntree repo:\n",
    "~~~\n",
    "conda create -n idyntree-jupyter -c conda-forge -c robotology numpy matplotlib idyntree icub-models ipywidgets \n",
    "conda activate idyntree-jupyter \n",
    "~~~\n",
    "\n",
    "Then, we can clone the idyntree repo to easily open this notebook, and then we can start the `jupyter notebook` application and open the `MeshcatVisualizerExample.ipynb` file from the Jupyter Notebook user interface:\n",
    "~~~\n",
    "git clone https://github.com/robotology/idyntree \n",
    "cd idyntree/examples/python\n",
    "jupyter notebook\n",
    "~~~\n",
    "\n",
    "Once you opened the notebook in the Jupyter Notebook, you can start executing the following cells."
   ]
  },
  {
   "cell_type": "code",
   "execution_count": null,
   "metadata": {},
   "outputs": [],
   "source": [
    "from idyntree.visualize import MeshcatVisualizer\n",
    "import numpy as np\n",
    "import os\n",
    "from ipywidgets import interact, interactive, fixed, interact_manual\n",
    "import ipywidgets as widgets\n",
    "import numpy as np"
   ]
  },
  {
   "cell_type": "code",
   "execution_count": null,
   "metadata": {},
   "outputs": [],
   "source": [
    "# Workaround for https://github.com/robotology/icub-models/issues/91\n",
    "# it assumes that icub-models is installed via conda/mamba \n",
    "# If icub-models is installed somewhere else, just specify its installation prefix\n",
    "# by setting the icub_models_install_prefix variable\n",
    "if os.name == 'nt':\n",
    "    icub_models_install_prefix = os.path.join(os.environ[\"CONDA_PREFIX\"],\"Library\")\n",
    "else:\n",
    "    icub_models_install_prefix = os.environ[\"CONDA_PREFIX\"]\n",
    "\n",
    "icub_dir = os.path.join(icub_models_install_prefix, \"share\", \"iCub\")\n",
    "share_dir = os.path.join(icub_models_install_prefix, \"share\")\n",
    "\n",
    "def get_model_path(robot_name='iCubGazeboV2_5'):\n",
    "    return os.path.join(icub_dir, 'robots', robot_name, 'model.urdf')"
   ]
  },
  {
   "cell_type": "code",
   "execution_count": null,
   "metadata": {},
   "outputs": [],
   "source": [
    "model_path = get_model_path()\n",
    "joint_list = [\"torso_pitch\", \"torso_roll\", \"torso_yaw\",\n",
    "              \"l_shoulder_pitch\", \"l_shoulder_roll\", \"l_shoulder_yaw\", \"l_elbow\",\n",
    "              \"r_shoulder_pitch\", \"r_shoulder_roll\", \"r_shoulder_yaw\", \"r_elbow\",\n",
    "              \"l_hip_pitch\", \"l_hip_roll\", \"l_hip_yaw\", \"l_knee\", \"l_ankle_pitch\", \"l_ankle_roll\",\n",
    "              \"r_hip_pitch\", \"r_hip_roll\", \"r_hip_yaw\", \"r_knee\", \"r_ankle_pitch\", \"r_ankle_roll\"]\n",
    "joint_dictionary = {joint: (-0.5, 0.5, 0.01) for joint in joint_list}"
   ]
  },
  {
   "cell_type": "code",
   "execution_count": null,
   "metadata": {},
   "outputs": [],
   "source": [
    "viz = MeshcatVisualizer()\n",
    "viz.set_model_from_file(model_path, joint_list)\n",
    "viz.load_model(color=[1, 1, 1, 0.8])"
   ]
  },
  {
   "cell_type": "code",
   "execution_count": null,
   "metadata": {},
   "outputs": [],
   "source": [
    "def update_the_model(**joint_values):\n",
    "    R = np.eye(3)\n",
    "    p = np.array([0.0, 0.0, 0.0])\n",
    "    s = np.array(list(joint_values.values()))\n",
    "    viz.display(p, R, s)"
   ]
  },
  {
   "cell_type": "code",
   "execution_count": null,
   "metadata": {},
   "outputs": [],
   "source": [
    "viz.jupyter_cell()"
   ]
  },
  {
   "cell_type": "code",
   "execution_count": null,
   "metadata": {},
   "outputs": [],
   "source": [
    "interact(update_the_model, **joint_dictionary);"
   ]
  }
 ],
 "metadata": {
  "kernelspec": {
   "display_name": "Python 3 (ipykernel)",
   "language": "python",
   "name": "python3"
  },
  "language_info": {
   "codemirror_mode": {
    "name": "ipython",
    "version": 3
   },
   "file_extension": ".py",
   "mimetype": "text/x-python",
   "name": "python",
   "nbconvert_exporter": "python",
   "pygments_lexer": "ipython3",
   "version": "3.9.6"
  }
 },
 "nbformat": 4,
 "nbformat_minor": 4
}
